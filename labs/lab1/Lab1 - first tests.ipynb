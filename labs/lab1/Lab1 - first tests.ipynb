{
 "cells": [
  {
   "cell_type": "code",
   "execution_count": 10,
   "metadata": {},
   "outputs": [],
   "source": [
    "import tensorflow as tf\n",
    "\n",
    "random_scalar = tf.random_uniform(())\n",
    "sess = tf.Session()\n",
    "sess.run(random_scalar)\n",
    "\n",
    "\n"
   ]
  },
  {
   "cell_type": "code",
   "execution_count": 14,
   "metadata": {},
   "outputs": [
    {
     "data": {
      "text/plain": [
       "True"
      ]
     },
     "execution_count": 14,
     "metadata": {},
     "output_type": "execute_result"
    }
   ],
   "source": [
    "double_random_scalar = 2 * random_scalar\n",
    "double_random_scalar_gt_one = double_random_scalar > 1\n",
    "\n",
    "sess.run(double_random_scalar_gt_one)"
   ]
  },
  {
   "cell_type": "code",
   "execution_count": 15,
   "metadata": {},
   "outputs": [
    {
     "data": {
      "text/plain": [
       "array([[ 0.84846682,  0.07957784,  0.09947537],\n",
       "       [ 0.23025143,  0.86254493,  0.25724576]])"
      ]
     },
     "execution_count": 15,
     "metadata": {},
     "output_type": "execute_result"
    }
   ],
   "source": [
    "np.random.rand(2,3)"
   ]
  },
  {
   "cell_type": "code",
   "execution_count": 16,
   "metadata": {},
   "outputs": [
    {
     "data": {
      "text/plain": [
       "array([[ True, False, False],\n",
       "       [ True,  True,  True]], dtype=bool)"
      ]
     },
     "execution_count": 16,
     "metadata": {},
     "output_type": "execute_result"
    }
   ],
   "source": [
    "random_tensor = tf.random_uniform((2,3))\n",
    "double_random_tensor = 2 * random_tensor\n",
    "double_random_tensor_gt_one = double_random_tensor > 1\n",
    "sess.run(double_random_tensor_gt_one)"
   ]
  },
  {
   "cell_type": "code",
   "execution_count": 30,
   "metadata": {},
   "outputs": [
    {
     "name": "stdout",
     "output_type": "stream",
     "text": [
      "[ 0.39894228  0.24197072  0.05399097  0.00443185]\n"
     ]
    }
   ],
   "source": [
    "def np_fn(x):\n",
    "    mu=0\n",
    "    sigma=1\n",
    "    exp=np.e ** ( -(((x-mu)**2) / (2*sigma**2)))\n",
    "    rslt=(1 / np.sqrt(2 * sigma**2 * np.pi)) * exp\n",
    "    print(rslt)\n",
    "    \n",
    "x = np.array([0, 1, 2, 3])\n",
    "np_fn(x)\n",
    "\n",
    "\n"
   ]
  },
  {
   "cell_type": "code",
   "execution_count": 34,
   "metadata": {},
   "outputs": [
    {
     "data": {
      "text/plain": [
       "array([ 0.39894229,  0.24197073,  0.05399097,  0.00443185], dtype=float32)"
      ]
     },
     "execution_count": 34,
     "metadata": {},
     "output_type": "execute_result"
    }
   ],
   "source": [
    "import tensorflow as tf\n",
    "import numpy as np\n",
    "\n",
    "def tf_fn(x):\n",
    "    mu=0\n",
    "    sigma=1\n",
    "    \n",
    "    x1 = tf.placeholder(tf.float32, [None])\n",
    "    exp=tf.exp(-((tf.subtract(x1,mu)**2) / (2*sigma**2)))\n",
    "    rslt = tf.rsqrt(2 * sigma**2 * np.pi)*exp\n",
    "\n",
    "    sess = tf.Session()\n",
    "    sess.run(tf.global_variables_initializer())\n",
    "    rslt2 = sess.run(rslt, {x1: x})\n",
    "    return rslt2\n",
    "\n",
    "x = np.array([0, 1, 2, 3])\n",
    "tf_fn(x)"
   ]
  }
 ],
 "metadata": {
  "kernelspec": {
   "display_name": "Python 3",
   "language": "python",
   "name": "python3"
  },
  "language_info": {
   "codemirror_mode": {
    "name": "ipython",
    "version": 3
   },
   "file_extension": ".py",
   "mimetype": "text/x-python",
   "name": "python",
   "nbconvert_exporter": "python",
   "pygments_lexer": "ipython3",
   "version": "3.4.3"
  }
 },
 "nbformat": 4,
 "nbformat_minor": 2
}
